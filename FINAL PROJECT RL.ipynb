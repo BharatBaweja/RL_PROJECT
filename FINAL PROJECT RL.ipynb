{
 "cells": [
  {
   "cell_type": "markdown",
   "metadata": {},
   "source": [
    "# qlearning for box games\n"
   ]
  },
  {
   "cell_type": "code",
   "execution_count": 6,
   "metadata": {},
   "outputs": [],
   "source": [
    "import gym\n",
    "import numpy as np"
   ]
  },
  {
   "cell_type": "code",
   "execution_count": 7,
   "metadata": {},
   "outputs": [],
   "source": [
    "LEARNING_RATE = 0.1\n",
    "DISCOUNT = 0.95\n",
    "EPISODES = 25_000\n",
    "SHOW_EVERY = 2000\n",
    "epsilon = 0.5\n",
    "START_EPSILON_DECAYING = 1\n",
    "END_EPSILON_DECAYING = EPISODES//2\n",
    "epsilon_decay_value = epsilon/(END_EPSILON_DECAYING - START_EPSILON_DECAYING)\n",
    "max_steps_per_episode = 100"
   ]
  },
  {
   "cell_type": "code",
   "execution_count": 8,
   "metadata": {},
   "outputs": [],
   "source": [
    "env = gym.make(\"MountainCar-v0\")\n",
    "env.reset()\n",
    "done = False\n",
    "DISCRETE_OS_SIZE = [20]*len(env.observation_space.high)\n",
    "discrete_os_win_size = (env.observation_space.high - env.observation_space.low)/DISCRETE_OS_SIZE\n",
    "\n",
    "\n",
    "q_table = np.zeros((DISCRETE_OS_SIZE + [env.action_space.n]))\n",
    "\n",
    "def get_discrete_state(state):\n",
    "    discrete_state = (state - env.observation_space.low) / discrete_os_win_size\n",
    "    return tuple(discrete_state.astype(np.int))\n"
   ]
  },
  {
   "cell_type": "code",
   "execution_count": null,
   "metadata": {},
   "outputs": [
    {
     "name": "stdout",
     "output_type": "stream",
     "text": [
      "0\n"
     ]
    }
   ],
   "source": [
    "for episode in range(EPISODES):\n",
    "    for step in range(max_steps_per_episode):\n",
    "        print(episode)\n",
    "        render = True\n",
    "        discrete_state = get_discrete_state(env.reset())\n",
    "        done=False\n",
    "        while not done:\n",
    "            if np.random.random()>epsilon:\n",
    "                action = np.argmax(q_table[discrete_state])\n",
    "            else:\n",
    "                action = np.random.randint(0,env.action_space.n)\n",
    "\n",
    "            action =np.argmax(q_table[discrete_state])\n",
    "            new_state, reward, donw , info = env.step(action)\n",
    "            new_discrete_state = get_discrete_state(new_state)\n",
    "            if render:\n",
    "                env.render()\n",
    "            if not done:\n",
    "                max_future_q = np.max(q_table[new_discrete_state])\n",
    "                current_q = q_table[discrete_state + (action, )]\n",
    "                new_q = (1-LEARNING_RATE)*current_q + LEARNING_RATE*(reward + DISCOUNT*max_future_q)\n",
    "                q_table[discrete_state + (action,)] = new_q\n",
    "            elif new_state[0]>= env.goal_position:\n",
    "                print(\"WE MADE IT ON EPISODE \", episode)\n",
    "                q_table[discrete_state+ (action, )] = 0\n",
    "\n",
    "                discrete_state = new_discrete_state\n",
    "            if END_EPSILON_DECAYING >= episode >=START_EPSILON_DECAYING:\n",
    "                epsilon -= epsilon_decay_value\n",
    "    \n",
    "env.close()"
   ]
  },
  {
   "cell_type": "code",
   "execution_count": null,
   "metadata": {},
   "outputs": [],
   "source": []
  },
  {
   "cell_type": "code",
   "execution_count": null,
   "metadata": {},
   "outputs": [],
   "source": []
  }
 ],
 "metadata": {
  "kernelspec": {
   "display_name": "Python 3",
   "language": "python",
   "name": "python3"
  },
  "language_info": {
   "codemirror_mode": {
    "name": "ipython",
    "version": 3
   },
   "file_extension": ".py",
   "mimetype": "text/x-python",
   "name": "python",
   "nbconvert_exporter": "python",
   "pygments_lexer": "ipython3",
   "version": "3.8.3"
  }
 },
 "nbformat": 4,
 "nbformat_minor": 4
}
